{
 "cells": [
  {
   "cell_type": "code",
   "execution_count": null,
   "id": "f594dea0",
   "metadata": {},
   "outputs": [],
   "source": [
    "# import our packages\n",
    "import pandas as pd\n",
    "import requests\n",
    "import os  \n",
    "import time\n",
    "from nba_api.stats.static import players\n",
    "from nba_api.stats.endpoints import playercareerstats\n",
    "from nba_api.stats.endpoints import commonplayerinfo\n",
    "from nba_api.stats.endpoints import playergamelog\n",
    "from nba_api.stats.library.parameters import SeasonAll\n",
    "from nba_api.stats.endpoints import boxscoretraditionalv2\n",
    "import warnings\n",
    "warnings.simplefilter(action='ignore', category=FutureWarning)"
   ]
  },
  {
   "attachments": {},
   "cell_type": "markdown",
   "id": "67fbd25f",
   "metadata": {},
   "source": [
    "Get All Player Data "
   ]
  },
  {
   "cell_type": "code",
   "execution_count": null,
   "id": "2e39a930",
   "metadata": {},
   "outputs": [],
   "source": [
    "headers  = {\n",
    "    'Connection': 'keep-alive',\n",
    "    'Accept': 'application/json, text/plain, */*',\n",
    "    'x-nba-stats-token': 'true',\n",
    "    'User-Agent': 'Mozilla/5.0 (Macintosh; Intel Mac OS X 10_14_6) AppleWebKit/537.36 (KHTML, like Gecko) Chrome/79.0.3945.130 Safari/537.36',\n",
    "    'x-nba-stats-origin': 'stats',\n",
    "    'Sec-Fetch-Site': 'same-origin',\n",
    "    'Sec-Fetch-Mode': 'cors',\n",
    "    'Referer': 'https://stats.nba.com/',\n",
    "    'Accept-Encoding': 'gzip, deflate, br',\n",
    "    'Accept-Language': 'en-US,en;q=0.9',\n",
    "}"
   ]
  },
  {
   "cell_type": "code",
   "execution_count": null,
   "id": "4b0a1c54",
   "metadata": {},
   "outputs": [],
   "source": [
    "if os.path.exists(\"./NBA_Stats/player_stats.csv\"):\n",
    "  os.remove(\"./NBA_Stats/player_stats.csv\")\n",
    "else:\n",
    "  print(\"The file does not exist\") "
   ]
  },
  {
   "cell_type": "code",
   "execution_count": null,
   "id": "1fa81ff6",
   "metadata": {},
   "outputs": [],
   "source": [
    "player_dictionary = players.get_players()\n",
    "\n",
    "for player in player_dictionary:\n",
    "    try:    \n",
    "        if player['is_active'] == True:\n",
    "            print(player['last_name'])\n",
    "            player_log = playergamelog.PlayerGameLog(\n",
    "            season = '2022',\n",
    "            player_id = player['id'],\n",
    "            season_type_all_star = ['Regular Season'])\n",
    "            player_log.get_data_frames()[0].to_csv(f'./NBA_Stats/player_stats.csv', mode='a', index=False, header=True)\n",
    "\n",
    "            time.sleep(.600)\n",
    "    except:\n",
    "        continue"
   ]
  },
  {
   "cell_type": "code",
   "execution_count": null,
   "id": "9193fdea",
   "metadata": {},
   "outputs": [],
   "source": [
    "df = pd.read_csv('./NBA_Stats/player_stats.csv')\n",
    "grouped = df.groupby(\"Player_ID\")\n",
    "grouped.head()"
   ]
  },
  {
   "attachments": {},
   "cell_type": "markdown",
   "id": "a036766e",
   "metadata": {},
   "source": [
    "Add Game Count Coloumn"
   ]
  },
  {
   "cell_type": "code",
   "execution_count": null,
   "id": "ce195ea4",
   "metadata": {},
   "outputs": [],
   "source": [
    "df[\"Game Count\"] = grouped[\"Game_ID\"].cumcount() + 1\n"
   ]
  },
  {
   "attachments": {},
   "cell_type": "markdown",
   "id": "1e3498dd",
   "metadata": {},
   "source": [
    "Find Duplicate Headers & Put into player_stats.csv"
   ]
  },
  {
   "cell_type": "code",
   "execution_count": null,
   "id": "008eebf1",
   "metadata": {},
   "outputs": [],
   "source": [
    "# find the indices of the rows that contain the headers\n",
    "header_rows = [i for i, row in df.iterrows() if row.astype(str).str.contains('PTS|REB|AST').any()]\n",
    "\n",
    "# drop the rows that contain the headers\n",
    "df.drop(header_rows, inplace=True)\n",
    "df.to_csv('./NBA_Stats/player_stats.csv', index=False)"
   ]
  },
  {
   "attachments": {},
   "cell_type": "markdown",
   "id": "6b75428b",
   "metadata": {},
   "source": [
    "Build Out AVG Stats CSV"
   ]
  },
  {
   "cell_type": "code",
   "execution_count": null,
   "id": "551a76f8",
   "metadata": {},
   "outputs": [],
   "source": [
    "import warnings\n",
    "warnings.simplefilter(action='ignore', category=FutureWarning)\n",
    "\n",
    "# Load the csv file into a pandas DataFrame\n",
    "df = pd.read_csv(\"./NBA_Stats/player_stats.csv\")\n",
    "\n",
    "# Group the data by player_id\n",
    "grouped_df = df.groupby(\"Player_ID\")\n",
    "\n",
    "# Create an empty DataFrame to store the results\n",
    "results_df = pd.DataFrame(columns=[\"Player_ID\"])\n",
    "\n",
    "# Loop through each player's data\n",
    "for Player_ID, player_data in grouped_df:\n",
    "    #check to make sure there is enough data\n",
    "    if len(player_data) >= 20:\n",
    "        # Calculate the average of the last 7 games for each player\n",
    "        totalGamesPlayed = len(player_data)\n",
    "        totalAvgPTS = player_data['PTS'].mean()\n",
    "        totalAvgAST = player_data['AST'].mean()\n",
    "        totalAvgREB = player_data['REB'].mean()\n",
    "        sevenGameAvg_MIN = player_data.sort_values(by=\"Game_ID\", ascending=False).head(7)[\"MIN\"].mean()\n",
    "        tenGameAvg_MIN = player_data.sort_values(by=\"Game_ID\", ascending=False).head(10)[\"MIN\"].mean()\n",
    "        fifteenGameAvg_MIN = player_data.sort_values(by=\"Game_ID\", ascending=False).head(15)[\"MIN\"].mean()\n",
    "        twentyGameAvg_MIN = player_data.sort_values(by=\"Game_ID\", ascending=False).head(20)[\"MIN\"].mean()        \n",
    "        sevenGameAvg_PTS = player_data.sort_values(by=\"Game_ID\", ascending=False).head(7)[\"PTS\"].mean()\n",
    "        sevenGameAvg_REB = player_data.sort_values(by=\"Game_ID\", ascending=False).head(7)[\"REB\"].mean()\n",
    "        sevenGameAvg_AST = player_data.sort_values(by=\"Game_ID\", ascending=False).head(7)[\"AST\"].mean()\n",
    "        tenGameAvg_PTS = player_data.sort_values(by=\"Game_ID\", ascending=False).head(10)[\"PTS\"].mean()\n",
    "        tenGameAvg_REB = player_data.sort_values(by=\"Game_ID\", ascending=False).head(10)[\"REB\"].mean()\n",
    "        tenGameAvg_AST = player_data.sort_values(by=\"Game_ID\", ascending=False).head(10)[\"AST\"].mean()\n",
    "        fifteenGameAvg_PTS = player_data.sort_values(by=\"Game_ID\", ascending=False).head(15)[\"PTS\"].mean()\n",
    "        fifteenGameAvg_REB = player_data.sort_values(by=\"Game_ID\", ascending=False).head(15)[\"REB\"].mean()\n",
    "        fifteenGameAvg_AST = player_data.sort_values(by=\"Game_ID\", ascending=False).head(15)[\"AST\"].mean()\n",
    "        twentyGameAvg_PTS = player_data.sort_values(by=\"Game_ID\", ascending=False).head(20)[\"PTS\"].mean()\n",
    "        twentyGameAvg_REB = player_data.sort_values(by=\"Game_ID\", ascending=False).head(20)[\"REB\"].mean()\n",
    "        twentyGameAvg_AST = player_data.sort_values(by=\"Game_ID\", ascending=False).head(20)[\"AST\"].mean()\n",
    "        \n",
    "        # Count the number of games where the player did not reach their average\n",
    "        below_7avgPTS_count = len(player_data.sort_values(by=\"Game_ID\", ascending=False).head(7).query(\"PTS < @totalAvgPTS\"))\n",
    "        below_10avgPTS_count = len(player_data.sort_values(by=\"Game_ID\", ascending=False).head(10).query(\"PTS < @totalAvgPTS\"))\n",
    "        below_15avgPTS_count = len(player_data.sort_values(by=\"Game_ID\", ascending=False).head(15).query(\"PTS < @totalAvgPTS\"))\n",
    "        below_20avgPTS_count = len(player_data.sort_values(by=\"Game_ID\", ascending=False).head(20).query(\"PTS < @totalAvgPTS\"))\n",
    "        below_7avgAST_count = len(player_data.sort_values(by=\"Game_ID\", ascending=False).head(7).query(\"AST < @totalAvgAST\"))\n",
    "        below_10avgAST_count = len(player_data.sort_values(by=\"Game_ID\", ascending=False).head(10).query(\"AST < @totalAvgAST\"))\n",
    "        below_15avgAST_count = len(player_data.sort_values(by=\"Game_ID\", ascending=False).head(15).query(\"AST < @totalAvgAST\"))\n",
    "        below_20avgAST_count = len(player_data.sort_values(by=\"Game_ID\", ascending=False).head(20).query(\"AST < @totalAvgAST\"))\n",
    "        below_7avgREB_count = len(player_data.sort_values(by=\"Game_ID\", ascending=False).head(7).query(\"REB < @totalAvgREB\"))\n",
    "        below_10avgREB_count = len(player_data.sort_values(by=\"Game_ID\", ascending=False).head(10).query(\"REB < @totalAvgREB\"))\n",
    "        below_15avgREB_count = len(player_data.sort_values(by=\"Game_ID\", ascending=False).head(15).query(\"REB < @totalAvgREB\"))\n",
    "        below_20avgREB_count = len(player_data.sort_values(by=\"Game_ID\", ascending=False).head(20).query(\"REB < @totalAvgREB\"))\n",
    "\n",
    "        # Calculate the % a player hit thier avg in the last 7,10,15,20 games\n",
    "        hitAvg7Percent = (below_7avgPTS_count/7)\n",
    "        hitAvg10Percent = (below_10avgPTS_count/10)\n",
    "        hitAvg15Percent = (below_15avgPTS_count/15)\n",
    "        hitAvg20Percent = (below_20avgPTS_count/20)\n",
    "        hitAvg7REBPercent = (below_7avgREB_count/7)\n",
    "        hitAvg10REBPercent = (below_10avgREB_count/10)\n",
    "        hitAvg15REBPercent = (below_15avgREB_count/15)\n",
    "        hitAvg20REBPercent = (below_20avgREB_count/20)\n",
    "        hitAvg7ASTPercent = (below_7avgAST_count/7)\n",
    "        hitAvg10ASTPercent = (below_10avgAST_count/10)\n",
    "        hitAvg15ASTPercent = (below_15avgAST_count/15)\n",
    "        hitAvg20ASTPercent = (below_20avgAST_count/20)\n",
    "\n",
    "\n",
    "        # Store the results for each player in the results DataFrame\n",
    "        results_df = results_df.append({\n",
    "            \"Player_ID\": Player_ID,\n",
    "            \"Numb_Games_Played\": totalGamesPlayed,\n",
    "            \"AVG_Points\": totalAvgPTS,\n",
    "            \"Below_AvgPTS_Past_7\": below_7avgPTS_count,\n",
    "            \"HitAvgPercent_Past7\": hitAvg7Percent,\n",
    "            \"Below_AvgPTS_Past_10\": below_10avgPTS_count,\n",
    "            \"HitAvgPercent_Past10\": hitAvg10Percent,\n",
    "            \"Below_AvgPTS_Past_15\": below_15avgPTS_count,\n",
    "            \"HitAvgPercent_Past15\": hitAvg15Percent,\n",
    "            \"Below_AvgPTS_Past_20\": below_20avgPTS_count,\n",
    "            \"HitAvgPercent_Past20\": hitAvg20Percent,\n",
    "            \"7_Game_avg_PTS\": sevenGameAvg_PTS, \n",
    "            \"10_Game_avg_PTS\": tenGameAvg_PTS,\n",
    "            \"15_Game_avg_PTS\": fifteenGameAvg_PTS,\n",
    "            \"20_Game_avg_PTS\": twentyGameAvg_PTS,\n",
    "            \"Below_AvgREB_Past_7\": below_7avgREB_count,\n",
    "            \"HitAvgREB7_%\": hitAvg7REBPercent,\n",
    "            \"HitAvgREB10_%\": hitAvg10REBPercent,\n",
    "            \"HitAvgREB15_%\": hitAvg15REBPercent,\n",
    "            \"HitAvgREB20_%\": hitAvg20REBPercent,\n",
    "            \"HitAvgAST7_%\": hitAvg7ASTPercent,\n",
    "            \"HitAvgAST10_%\": hitAvg10ASTPercent,\n",
    "            \"HitAvgAST15_%\": hitAvg15ASTPercent,\n",
    "            \"HitAvgAST20_%\": hitAvg20ASTPercent,\n",
    "            \"Below_AvgREB_Past_10\": below_10avgREB_count,\n",
    "            \"Below_AvgREB_Past_15\": below_15avgREB_count,\n",
    "            \"Below_AvgREB_Past_15\": below_20avgREB_count,\n",
    "            \"7_Game_avg_REB\": sevenGameAvg_REB, \n",
    "            \"10_Game_avg_REB\": tenGameAvg_REB,\n",
    "            \"15_Game_avg_REB\": fifteenGameAvg_REB,\n",
    "            \"20_Game_avg_REB\": twentyGameAvg_REB,\n",
    "            \"Below_AvgAST_Past_7\": below_7avgAST_count,\n",
    "            \"Below_AvgAST_Past_10\": below_10avgAST_count,\n",
    "            \"Below_AvgAST_Past_15\": below_15avgAST_count,\n",
    "            \"Below_AvgAST_Past_15\": below_20avgAST_count,\n",
    "            \"7_Game_avg_AST\": sevenGameAvg_AST,\n",
    "            \"10_Game_avg_AST\": tenGameAvg_AST,\n",
    "            \"15_Game_avg_AST\": fifteenGameAvg_AST,\n",
    "            \"20_Game_avg_AST\": twentyGameAvg_AST,\n",
    "            \"7_Game_avg_MIN\": sevenGameAvg_MIN,\n",
    "            \"10_Game_avg_MIN\": tenGameAvg_MIN,\n",
    "            \"15_Game_avg_MIN\": fifteenGameAvg_MIN,\n",
    "            \"20_Game_avg_MIN\": twentyGameAvg_MIN\n",
    "            }, ignore_index=True)\n",
    "\n",
    "# Save the results to a new csv file\n",
    "results_df.to_csv(\"./NBA_Stats/player_avg_stats.csv\", index=False)\n"
   ]
  }
 ],
 "metadata": {
  "kernelspec": {
   "display_name": "Python 3",
   "language": "python",
   "name": "python3"
  },
  "language_info": {
   "codemirror_mode": {
    "name": "ipython",
    "version": 3
   },
   "file_extension": ".py",
   "mimetype": "text/x-python",
   "name": "python",
   "nbconvert_exporter": "python",
   "pygments_lexer": "ipython3",
   "version": "3.11.0"
  },
  "vscode": {
   "interpreter": {
    "hash": "c261aea317cc0286b3b3261fbba9abdec21eaa57589985bb7a274bf54d6cc0a7"
   }
  }
 },
 "nbformat": 4,
 "nbformat_minor": 5
}
