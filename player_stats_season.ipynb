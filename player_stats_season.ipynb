{
 "cells": [
  {
   "cell_type": "code",
   "execution_count": null,
   "id": "f594dea0",
   "metadata": {},
   "outputs": [],
   "source": [
    "# import our packages\n",
    "import pandas as pd\n",
    "import requests\n",
    "import os  \n",
    "import time\n",
    "from nba_api.stats.static import players\n",
    "from nba_api.stats.endpoints import playercareerstats\n",
    "from nba_api.stats.endpoints import commonplayerinfo\n",
    "from nba_api.stats.endpoints import playergamelog\n",
    "from nba_api.stats.library.parameters import SeasonAll\n",
    "from nba_api.stats.endpoints import boxscoretraditionalv2\n",
    "import warnings\n",
    "warnings.simplefilter(action='ignore', category=FutureWarning)"
   ]
  },
  {
   "attachments": {},
   "cell_type": "markdown",
   "id": "67fbd25f",
   "metadata": {},
   "source": [
    "Get All Player Data "
   ]
  },
  {
   "cell_type": "code",
   "execution_count": null,
   "id": "2e39a930",
   "metadata": {},
   "outputs": [],
   "source": [
    "headers  = {\n",
    "    'Connection': 'keep-alive',\n",
    "    'Accept': 'application/json, text/plain, */*',\n",
    "    'x-nba-stats-token': 'true',\n",
    "    'User-Agent': 'Mozilla/5.0 (Macintosh; Intel Mac OS X 10_14_6) AppleWebKit/537.36 (KHTML, like Gecko) Chrome/79.0.3945.130 Safari/537.36',\n",
    "    'x-nba-stats-origin': 'stats',\n",
    "    'Sec-Fetch-Site': 'same-origin',\n",
    "    'Sec-Fetch-Mode': 'cors',\n",
    "    'Referer': 'https://stats.nba.com/',\n",
    "    'Accept-Encoding': 'gzip, deflate, br',\n",
    "    'Accept-Language': 'en-US,en;q=0.9',\n",
    "}"
   ]
  },
  {
   "cell_type": "code",
   "execution_count": null,
   "id": "4b0a1c54",
   "metadata": {},
   "outputs": [],
   "source": [
    "if os.path.exists(\"./NBA_Stats/player_career_stats.csv\"):\n",
    "  os.remove(\"./NBA_Stats/player_career_stats.csv\")\n",
    "else:\n",
    "  print(\"The file does not exist\") "
   ]
  },
  {
   "cell_type": "code",
   "execution_count": null,
   "id": "b19fe988",
   "metadata": {},
   "outputs": [],
   "source": [
    "player_dictionary = players.get_players()\n"
   ]
  },
  {
   "cell_type": "code",
   "execution_count": null,
   "id": "1fa81ff6",
   "metadata": {},
   "outputs": [],
   "source": [
    "\n",
    "for player in player_dictionary:\n",
    "    try:    \n",
    "        if player['is_active'] == True:\n",
    "            print(player['full_name'])\n",
    "            career = playercareerstats.PlayerCareerStats(player_id = player['id'])\n",
    "            career.get_data_frames()[0].to_csv(f'./NBA_Stats/player_career_stats.csv', mode='a', index=False, header=True)\n",
    "            time.sleep(.600)\n",
    "    except:\n",
    "        continue"
   ]
  },
  {
   "cell_type": "code",
   "execution_count": null,
   "id": "a73b20d0",
   "metadata": {},
   "outputs": [],
   "source": [
    "df = pd.read_csv('./NBA_Stats/player_career_stats.csv')\n",
    "grouped = df.groupby(\"PLAYER_ID\")\n",
    "grouped.head()"
   ]
  },
  {
   "cell_type": "code",
   "execution_count": null,
   "id": "a26cb433",
   "metadata": {},
   "outputs": [],
   "source": [
    "df[\"Season_Count\"] = grouped[\"PLAYER_ID\"].cumcount() + 1\n",
    "\n",
    "df.head()"
   ]
  },
  {
   "cell_type": "code",
   "execution_count": null,
   "id": "b07b53b8",
   "metadata": {},
   "outputs": [],
   "source": [
    "# find the indices of the rows that contain the headers\n",
    "header_rows = [i for i, row in df.iterrows() if row.astype(str).str.contains('PTS|REB|AST').any()]\n",
    "\n",
    "# drop the rows that contain the headers\n",
    "df.drop(header_rows, inplace=True)\n",
    "df.to_csv('./NBA_Stats/player_career_stats_cleaned.csv', index=False)"
   ]
  },
  {
   "cell_type": "code",
   "execution_count": null,
   "id": "2952dfed",
   "metadata": {},
   "outputs": [],
   "source": [
    "df = pd.read_csv('./NBA_Stats/player_career_stats_cleaned.csv')\n",
    "\n",
    "# Group the data by player name and calculate the cumulative sum of points for each player\n",
    "df['career_points'] = df.groupby('PLAYER_ID')['PTS'].cumsum()\n",
    "\n",
    "# Reset the index to ensure that the career points are in the correct order for each player\n",
    "df = df.reset_index(drop=True)\n",
    "\n",
    "# Write the result back to a csv file\n",
    "df.to_csv('./NBA_Stats/player_career_stats_cleaned.csv', index=False)"
   ]
  }
 ],
 "metadata": {
  "kernelspec": {
   "display_name": "Python 3",
   "language": "python",
   "name": "python3"
  },
  "language_info": {
   "codemirror_mode": {
    "name": "ipython",
    "version": 3
   },
   "file_extension": ".py",
   "mimetype": "text/x-python",
   "name": "python",
   "nbconvert_exporter": "python",
   "pygments_lexer": "ipython3",
   "version": "3.11.0"
  },
  "vscode": {
   "interpreter": {
    "hash": "c261aea317cc0286b3b3261fbba9abdec21eaa57589985bb7a274bf54d6cc0a7"
   }
  }
 },
 "nbformat": 4,
 "nbformat_minor": 5
}
